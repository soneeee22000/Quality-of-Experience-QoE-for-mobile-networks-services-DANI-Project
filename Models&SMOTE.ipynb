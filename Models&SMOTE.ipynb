{
  "cells": [
    {
      "cell_type": "markdown",
      "metadata": {
        "id": "Dzbu14UMEfWU"
      },
      "source": [
        "## This looks good! first , we will try to apply our models and algorithms and see how they perform on the dataset as it is and then we will apply SMOTE on our target varibales Y classes to see if it will improve the performance of our models and algorithms or not! as an experiment !"
      ]
    },
    {
      "cell_type": "markdown",
      "metadata": {
        "id": "N5ROmjr7EfWU"
      },
      "source": [
        "<u> moving on to our models and algorithms: our main goals and potential experiments </u>\n",
        "\n",
        "some potential goals I would pursue are:\n",
        "\n",
        "1. Predict Video Streaming QoE\n",
        "- Build machine learning models to predict Mean Opinion Score (MOS) based on the various influence factors\n",
        "- Identify the most important factors impacting QoE and their thresholds\n",
        "- Evaluate different ML algorithms and compare performance\n",
        "\n",
        "2. Analyze Impact of Factors on QoE\n",
        "- Statistical analysis to quantify the correlation and effect size of each factor (video bitrate, buffering, etc.) on MOS\n",
        "- Identify interactions between factors that influence QoE\n",
        "\n",
        "3. Compare QoE Across Conditions\n",
        "- Benchmark QoE for different network types (4G vs 3G), video types, devices\n",
        "- Analyze if some conditions make QoE more sensitive to certain factors\n",
        "\n",
        "4. Segment Users by QoE\n",
        "- Apply clustering techniques to group users based on their QoE patterns\n",
        "- Develop user profiles most likely to perceive poor/good QoE\n",
        "\n",
        "Before applying any algorithms, anyone should start with thorough exploratory data analysis to understand the distribution of the data, correlation between variables, underlying trends and relationships which I have done above. This would shape the specific direction and methodology for modeling and analysis to meet the end goals. The key is tying the analysis back to providing meaningful, actionable insights into improving quality of experience."
      ]
    },
    {
      "cell_type": "code",
      "execution_count": 64,
      "metadata": {
        "colab": {
          "base_uri": "https://localhost:8080/",
          "height": 74
        },
        "id": "6CRjfdjXEfWU",
        "outputId": "ea24fdd2-6019-4bba-b4f7-fa9206653065"
      },
      "outputs": [
        {
          "data": {
            "text/html": [
              "<style>#sk-container-id-1 {color: black;background-color: white;}#sk-container-id-1 pre{padding: 0;}#sk-container-id-1 div.sk-toggleable {background-color: white;}#sk-container-id-1 label.sk-toggleable__label {cursor: pointer;display: block;width: 100%;margin-bottom: 0;padding: 0.3em;box-sizing: border-box;text-align: center;}#sk-container-id-1 label.sk-toggleable__label-arrow:before {content: \"▸\";float: left;margin-right: 0.25em;color: #696969;}#sk-container-id-1 label.sk-toggleable__label-arrow:hover:before {color: black;}#sk-container-id-1 div.sk-estimator:hover label.sk-toggleable__label-arrow:before {color: black;}#sk-container-id-1 div.sk-toggleable__content {max-height: 0;max-width: 0;overflow: hidden;text-align: left;background-color: #f0f8ff;}#sk-container-id-1 div.sk-toggleable__content pre {margin: 0.2em;color: black;border-radius: 0.25em;background-color: #f0f8ff;}#sk-container-id-1 input.sk-toggleable__control:checked~div.sk-toggleable__content {max-height: 200px;max-width: 100%;overflow: auto;}#sk-container-id-1 input.sk-toggleable__control:checked~label.sk-toggleable__label-arrow:before {content: \"▾\";}#sk-container-id-1 div.sk-estimator input.sk-toggleable__control:checked~label.sk-toggleable__label {background-color: #d4ebff;}#sk-container-id-1 div.sk-label input.sk-toggleable__control:checked~label.sk-toggleable__label {background-color: #d4ebff;}#sk-container-id-1 input.sk-hidden--visually {border: 0;clip: rect(1px 1px 1px 1px);clip: rect(1px, 1px, 1px, 1px);height: 1px;margin: -1px;overflow: hidden;padding: 0;position: absolute;width: 1px;}#sk-container-id-1 div.sk-estimator {font-family: monospace;background-color: #f0f8ff;border: 1px dotted black;border-radius: 0.25em;box-sizing: border-box;margin-bottom: 0.5em;}#sk-container-id-1 div.sk-estimator:hover {background-color: #d4ebff;}#sk-container-id-1 div.sk-parallel-item::after {content: \"\";width: 100%;border-bottom: 1px solid gray;flex-grow: 1;}#sk-container-id-1 div.sk-label:hover label.sk-toggleable__label {background-color: #d4ebff;}#sk-container-id-1 div.sk-serial::before {content: \"\";position: absolute;border-left: 1px solid gray;box-sizing: border-box;top: 0;bottom: 0;left: 50%;z-index: 0;}#sk-container-id-1 div.sk-serial {display: flex;flex-direction: column;align-items: center;background-color: white;padding-right: 0.2em;padding-left: 0.2em;position: relative;}#sk-container-id-1 div.sk-item {position: relative;z-index: 1;}#sk-container-id-1 div.sk-parallel {display: flex;align-items: stretch;justify-content: center;background-color: white;position: relative;}#sk-container-id-1 div.sk-item::before, #sk-container-id-1 div.sk-parallel-item::before {content: \"\";position: absolute;border-left: 1px solid gray;box-sizing: border-box;top: 0;bottom: 0;left: 50%;z-index: -1;}#sk-container-id-1 div.sk-parallel-item {display: flex;flex-direction: column;z-index: 1;position: relative;background-color: white;}#sk-container-id-1 div.sk-parallel-item:first-child::after {align-self: flex-end;width: 50%;}#sk-container-id-1 div.sk-parallel-item:last-child::after {align-self: flex-start;width: 50%;}#sk-container-id-1 div.sk-parallel-item:only-child::after {width: 0;}#sk-container-id-1 div.sk-dashed-wrapped {border: 1px dashed gray;margin: 0 0.4em 0.5em 0.4em;box-sizing: border-box;padding-bottom: 0.4em;background-color: white;}#sk-container-id-1 div.sk-label label {font-family: monospace;font-weight: bold;display: inline-block;line-height: 1.2em;}#sk-container-id-1 div.sk-label-container {text-align: center;}#sk-container-id-1 div.sk-container {/* jupyter's `normalize.less` sets `[hidden] { display: none; }` but bootstrap.min.css set `[hidden] { display: none !important; }` so we also need the `!important` here to be able to override the default hidden behavior on the sphinx rendered scikit-learn.org. See: https://github.com/scikit-learn/scikit-learn/issues/21755 */display: inline-block !important;position: relative;}#sk-container-id-1 div.sk-text-repr-fallback {display: none;}</style><div id=\"sk-container-id-1\" class=\"sk-top-container\"><div class=\"sk-text-repr-fallback\"><pre>RandomForestRegressor(random_state=42)</pre><b>In a Jupyter environment, please rerun this cell to show the HTML representation or trust the notebook. <br />On GitHub, the HTML representation is unable to render, please try loading this page with nbviewer.org.</b></div><div class=\"sk-container\" hidden><div class=\"sk-item\"><div class=\"sk-estimator sk-toggleable\"><input class=\"sk-toggleable__control sk-hidden--visually\" id=\"sk-estimator-id-1\" type=\"checkbox\" checked><label for=\"sk-estimator-id-1\" class=\"sk-toggleable__label sk-toggleable__label-arrow\">RandomForestRegressor</label><div class=\"sk-toggleable__content\"><pre>RandomForestRegressor(random_state=42)</pre></div></div></div></div></div>"
            ],
            "text/plain": [
              "RandomForestRegressor(random_state=42)"
            ]
          },
          "execution_count": 64,
          "metadata": {},
          "output_type": "execute_result"
        }
      ],
      "source": [
        "# let's train a model on the train set and evaluate it on the test set\n",
        "\n",
        "#let's import RandomForestRegressor\n",
        "from sklearn.ensemble import RandomForestRegressor\n",
        "\n",
        "#let's instantiate the model\n",
        "model = RandomForestRegressor(random_state=42)\n",
        "\n",
        "#let's separate the target variable from the train set\n",
        "X_train = train.drop(['MOS'],axis=1)\n",
        "y_train = train['MOS']\n",
        "\n",
        "#let's separate the target variable from the test set\n",
        "X_test = test.drop(['MOS'],axis=1)\n",
        "y_test = test['MOS']\n",
        "\n",
        "\n",
        "#let's fit the model on the train set\n",
        "model.fit(X_train,y_train)\n",
        "\n"
      ]
    },
    {
      "cell_type": "code",
      "execution_count": 65,
      "metadata": {
        "colab": {
          "base_uri": "https://localhost:8080/"
        },
        "id": "ZoG2psyEEfWV",
        "outputId": "459402c4-8d41-4c7a-fa25-729ec491ffbc"
      },
      "outputs": [
        {
          "data": {
            "text/plain": [
              "array([1.35, 3.73, 4.  , 4.  , 3.91])"
            ]
          },
          "execution_count": 65,
          "metadata": {},
          "output_type": "execute_result"
        }
      ],
      "source": [
        "#let's predict on the test set\n",
        "y_pred = model.predict(X_test)\n",
        "\n",
        "#let's see the first 5 predictions\n",
        "y_pred[:5]"
      ]
    },
    {
      "cell_type": "markdown",
      "metadata": {
        "id": "WOENpz_5EfWV"
      },
      "source": [
        "# we will start with the simplest model first and then move on to more complex models and algorithms"
      ]
    },
    {
      "cell_type": "code",
      "execution_count": 66,
      "metadata": {
        "colab": {
          "base_uri": "https://localhost:8080/"
        },
        "id": "xMnTgm_FEfWV",
        "outputId": "8301af03-60cc-4083-8c55-f5d5f8c6eb65"
      },
      "outputs": [
        {
          "data": {
            "text/plain": [
              "1493    1\n",
              "1156    4\n",
              "1253    4\n",
              "561     4\n",
              "1098    4\n",
              "Name: MOS, dtype: int64"
            ]
          },
          "execution_count": 66,
          "metadata": {},
          "output_type": "execute_result"
        }
      ],
      "source": [
        "#let's see the first 5 actual values\n",
        "y_test[:5]"
      ]
    },
    {
      "cell_type": "code",
      "execution_count": 67,
      "metadata": {
        "colab": {
          "base_uri": "https://localhost:8080/"
        },
        "id": "fldbCv8DEfWV",
        "outputId": "e8400c32-18f4-46f6-b076-74f94434f640"
      },
      "outputs": [
        {
          "data": {
            "text/plain": [
              "(309,)"
            ]
          },
          "execution_count": 67,
          "metadata": {},
          "output_type": "execute_result"
        }
      ],
      "source": [
        "#let's see the shape of the predictions\n",
        "y_pred.shape"
      ]
    },
    {
      "cell_type": "code",
      "execution_count": 68,
      "metadata": {
        "colab": {
          "base_uri": "https://localhost:8080/"
        },
        "id": "tGtpg4adEfWV",
        "outputId": "748f767f-0195-4fd0-9c6d-c46748f24f5c"
      },
      "outputs": [
        {
          "data": {
            "text/plain": [
              "(309,)"
            ]
          },
          "execution_count": 68,
          "metadata": {},
          "output_type": "execute_result"
        }
      ],
      "source": [
        "#let's see the shape of the actual values\n",
        "y_test.shape"
      ]
    },
    {
      "cell_type": "code",
      "execution_count": 69,
      "metadata": {
        "colab": {
          "base_uri": "https://localhost:8080/"
        },
        "id": "DJtZkDGVEfWV",
        "outputId": "e6cce0d3-6fa8-4f2c-b90d-1957e16a85b4"
      },
      "outputs": [
        {
          "data": {
            "text/plain": [
              "4.000000    54\n",
              "5.000000    33\n",
              "3.990000    12\n",
              "4.020000    10\n",
              "4.010000     6\n",
              "            ..\n",
              "2.952500     1\n",
              "2.728333     1\n",
              "3.220000     1\n",
              "2.070833     1\n",
              "4.350000     1\n",
              "Length: 160, dtype: int64"
            ]
          },
          "execution_count": 69,
          "metadata": {},
          "output_type": "execute_result"
        }
      ],
      "source": [
        "#let's see the distribution of the predictions\n",
        "pd.Series(y_pred).value_counts()\n"
      ]
    },
    {
      "cell_type": "code",
      "execution_count": 70,
      "metadata": {
        "colab": {
          "base_uri": "https://localhost:8080/"
        },
        "id": "2v0fpIqKEfWV",
        "outputId": "7c23a739-a116-4fec-fd30-e679a7fc1383"
      },
      "outputs": [
        {
          "data": {
            "text/plain": [
              "0.2712556015541452"
            ]
          },
          "execution_count": 70,
          "metadata": {},
          "output_type": "execute_result"
        }
      ],
      "source": [
        "# let's evaluate the model\n",
        "#let's import mean_absolute_error\n",
        "from sklearn.metrics import mean_absolute_error\n",
        "\n",
        "#let's evaluate the model on the test set\n",
        "mean_absolute_error(y_test,y_pred)\n",
        "\n"
      ]
    },
    {
      "cell_type": "code",
      "execution_count": 71,
      "metadata": {
        "colab": {
          "base_uri": "https://localhost:8080/"
        },
        "id": "LKfvy6jCEfWV",
        "outputId": "3cc89bf0-5c8f-424e-c2c4-44fc7b3279a5"
      },
      "outputs": [
        {
          "name": "stdout",
          "output_type": "stream",
          "text": [
            "Our model accuracy is: 81.14%\n"
          ]
        }
      ],
      "source": [
        "#let's see our model accuracy\n",
        "print(\"Our model accuracy is: {}%\".format(round(model.score(X_test,y_test)*100,2)))"
      ]
    },
    {
      "cell_type": "markdown",
      "metadata": {
        "id": "lxJWc6r0EfWV"
      },
      "source": [
        "## the accuracy of the model is 81.14% which is not bad at all! it's a good start! we will try to improve it by using more complex models and algorithms"
      ]
    },
    {
      "cell_type": "code",
      "execution_count": 72,
      "metadata": {
        "colab": {
          "base_uri": "https://localhost:8080/",
          "height": 74
        },
        "id": "9d2d8px0EfWV",
        "outputId": "5c04af03-82a4-456a-937d-12e6dc9d8992"
      },
      "outputs": [
        {
          "data": {
            "text/html": [
              "<style>#sk-container-id-2 {color: black;background-color: white;}#sk-container-id-2 pre{padding: 0;}#sk-container-id-2 div.sk-toggleable {background-color: white;}#sk-container-id-2 label.sk-toggleable__label {cursor: pointer;display: block;width: 100%;margin-bottom: 0;padding: 0.3em;box-sizing: border-box;text-align: center;}#sk-container-id-2 label.sk-toggleable__label-arrow:before {content: \"▸\";float: left;margin-right: 0.25em;color: #696969;}#sk-container-id-2 label.sk-toggleable__label-arrow:hover:before {color: black;}#sk-container-id-2 div.sk-estimator:hover label.sk-toggleable__label-arrow:before {color: black;}#sk-container-id-2 div.sk-toggleable__content {max-height: 0;max-width: 0;overflow: hidden;text-align: left;background-color: #f0f8ff;}#sk-container-id-2 div.sk-toggleable__content pre {margin: 0.2em;color: black;border-radius: 0.25em;background-color: #f0f8ff;}#sk-container-id-2 input.sk-toggleable__control:checked~div.sk-toggleable__content {max-height: 200px;max-width: 100%;overflow: auto;}#sk-container-id-2 input.sk-toggleable__control:checked~label.sk-toggleable__label-arrow:before {content: \"▾\";}#sk-container-id-2 div.sk-estimator input.sk-toggleable__control:checked~label.sk-toggleable__label {background-color: #d4ebff;}#sk-container-id-2 div.sk-label input.sk-toggleable__control:checked~label.sk-toggleable__label {background-color: #d4ebff;}#sk-container-id-2 input.sk-hidden--visually {border: 0;clip: rect(1px 1px 1px 1px);clip: rect(1px, 1px, 1px, 1px);height: 1px;margin: -1px;overflow: hidden;padding: 0;position: absolute;width: 1px;}#sk-container-id-2 div.sk-estimator {font-family: monospace;background-color: #f0f8ff;border: 1px dotted black;border-radius: 0.25em;box-sizing: border-box;margin-bottom: 0.5em;}#sk-container-id-2 div.sk-estimator:hover {background-color: #d4ebff;}#sk-container-id-2 div.sk-parallel-item::after {content: \"\";width: 100%;border-bottom: 1px solid gray;flex-grow: 1;}#sk-container-id-2 div.sk-label:hover label.sk-toggleable__label {background-color: #d4ebff;}#sk-container-id-2 div.sk-serial::before {content: \"\";position: absolute;border-left: 1px solid gray;box-sizing: border-box;top: 0;bottom: 0;left: 50%;z-index: 0;}#sk-container-id-2 div.sk-serial {display: flex;flex-direction: column;align-items: center;background-color: white;padding-right: 0.2em;padding-left: 0.2em;position: relative;}#sk-container-id-2 div.sk-item {position: relative;z-index: 1;}#sk-container-id-2 div.sk-parallel {display: flex;align-items: stretch;justify-content: center;background-color: white;position: relative;}#sk-container-id-2 div.sk-item::before, #sk-container-id-2 div.sk-parallel-item::before {content: \"\";position: absolute;border-left: 1px solid gray;box-sizing: border-box;top: 0;bottom: 0;left: 50%;z-index: -1;}#sk-container-id-2 div.sk-parallel-item {display: flex;flex-direction: column;z-index: 1;position: relative;background-color: white;}#sk-container-id-2 div.sk-parallel-item:first-child::after {align-self: flex-end;width: 50%;}#sk-container-id-2 div.sk-parallel-item:last-child::after {align-self: flex-start;width: 50%;}#sk-container-id-2 div.sk-parallel-item:only-child::after {width: 0;}#sk-container-id-2 div.sk-dashed-wrapped {border: 1px dashed gray;margin: 0 0.4em 0.5em 0.4em;box-sizing: border-box;padding-bottom: 0.4em;background-color: white;}#sk-container-id-2 div.sk-label label {font-family: monospace;font-weight: bold;display: inline-block;line-height: 1.2em;}#sk-container-id-2 div.sk-label-container {text-align: center;}#sk-container-id-2 div.sk-container {/* jupyter's `normalize.less` sets `[hidden] { display: none; }` but bootstrap.min.css set `[hidden] { display: none !important; }` so we also need the `!important` here to be able to override the default hidden behavior on the sphinx rendered scikit-learn.org. See: https://github.com/scikit-learn/scikit-learn/issues/21755 */display: inline-block !important;position: relative;}#sk-container-id-2 div.sk-text-repr-fallback {display: none;}</style><div id=\"sk-container-id-2\" class=\"sk-top-container\"><div class=\"sk-text-repr-fallback\"><pre>LogisticRegression(random_state=42)</pre><b>In a Jupyter environment, please rerun this cell to show the HTML representation or trust the notebook. <br />On GitHub, the HTML representation is unable to render, please try loading this page with nbviewer.org.</b></div><div class=\"sk-container\" hidden><div class=\"sk-item\"><div class=\"sk-estimator sk-toggleable\"><input class=\"sk-toggleable__control sk-hidden--visually\" id=\"sk-estimator-id-2\" type=\"checkbox\" checked><label for=\"sk-estimator-id-2\" class=\"sk-toggleable__label sk-toggleable__label-arrow\">LogisticRegression</label><div class=\"sk-toggleable__content\"><pre>LogisticRegression(random_state=42)</pre></div></div></div></div></div>"
            ],
            "text/plain": [
              "LogisticRegression(random_state=42)"
            ]
          },
          "execution_count": 72,
          "metadata": {},
          "output_type": "execute_result"
        }
      ],
      "source": [
        "# let's try logistic regression as well since we want the model to classify the predictions labels into 5 classes rather than giving us a continuous value\n",
        "\n",
        "#let's import LogisticRegression\n",
        "from sklearn.linear_model import LogisticRegression\n",
        "\n",
        "#let's instantiate the model\n",
        "model = LogisticRegression(random_state=42)\n",
        "\n",
        "#let's fit the model on the train set\n",
        "model.fit(X_train,y_train)"
      ]
    },
    {
      "cell_type": "code",
      "execution_count": 73,
      "metadata": {
        "colab": {
          "base_uri": "https://localhost:8080/"
        },
        "id": "rIucAboTEfWV",
        "outputId": "d263a736-ab01-4c4c-9db9-c2e66be53987"
      },
      "outputs": [
        {
          "data": {
            "text/plain": [
              "array([3, 4, 4, 4, 4])"
            ]
          },
          "execution_count": 73,
          "metadata": {},
          "output_type": "execute_result"
        }
      ],
      "source": [
        "#let's predict on the test set\n",
        "y_pred = model.predict(X_test)\n",
        "\n",
        "#let's see the first 5 predictions\n",
        "y_pred[:5]"
      ]
    },
    {
      "cell_type": "code",
      "execution_count": 74,
      "metadata": {
        "colab": {
          "base_uri": "https://localhost:8080/"
        },
        "id": "Ow49A5fEEfWV",
        "outputId": "19dc5fa3-9865-476d-ca64-22ff14e099a2"
      },
      "outputs": [
        {
          "data": {
            "text/plain": [
              "1493    1\n",
              "1156    4\n",
              "1253    4\n",
              "561     4\n",
              "1098    4\n",
              "Name: MOS, dtype: int64"
            ]
          },
          "execution_count": 74,
          "metadata": {},
          "output_type": "execute_result"
        }
      ],
      "source": [
        "#let's see the first 5 actual values\n",
        "y_test[:5]"
      ]
    },
    {
      "cell_type": "code",
      "execution_count": 75,
      "metadata": {
        "colab": {
          "base_uri": "https://localhost:8080/"
        },
        "id": "eO65iNE2EfWV",
        "outputId": "de8303d9-93de-4aa3-af3b-df007a4a271a"
      },
      "outputs": [
        {
          "data": {
            "text/plain": [
              "(309,)"
            ]
          },
          "execution_count": 75,
          "metadata": {},
          "output_type": "execute_result"
        }
      ],
      "source": [
        "#let's see the shape of the predictions\n",
        "y_pred.shape"
      ]
    },
    {
      "cell_type": "code",
      "execution_count": 76,
      "metadata": {
        "colab": {
          "base_uri": "https://localhost:8080/"
        },
        "id": "bbSonsnmEfWV",
        "outputId": "9b1f70fb-b124-4f42-89f9-cf919880f786"
      },
      "outputs": [
        {
          "data": {
            "text/plain": [
              "(309,)"
            ]
          },
          "execution_count": 76,
          "metadata": {},
          "output_type": "execute_result"
        }
      ],
      "source": [
        "#let's see the shape of the actual values\n",
        "y_test.shape"
      ]
    },
    {
      "cell_type": "code",
      "execution_count": 77,
      "metadata": {
        "colab": {
          "base_uri": "https://localhost:8080/"
        },
        "id": "rtpfDEJFEfWW",
        "outputId": "3d9fe31f-c3d4-48b7-ab71-ae323ac0a6aa"
      },
      "outputs": [
        {
          "data": {
            "text/plain": [
              "4    193\n",
              "5     60\n",
              "3     29\n",
              "2     15\n",
              "1     12\n",
              "dtype: int64"
            ]
          },
          "execution_count": 77,
          "metadata": {},
          "output_type": "execute_result"
        }
      ],
      "source": [
        "#let's see the distribution of the predictions\n",
        "pd.Series(y_pred).value_counts()"
      ]
    },
    {
      "cell_type": "code",
      "execution_count": 78,
      "metadata": {
        "colab": {
          "base_uri": "https://localhost:8080/"
        },
        "id": "1VEqJLn9EfWW",
        "outputId": "07d0e48e-405e-43f0-896d-ad1e23b2ac14"
      },
      "outputs": [
        {
          "data": {
            "text/plain": [
              "0.3592233009708738"
            ]
          },
          "execution_count": 78,
          "metadata": {},
          "output_type": "execute_result"
        }
      ],
      "source": [
        "#let's evaluate the model on the test set\n",
        "mean_absolute_error(y_test,y_pred)\n"
      ]
    },
    {
      "cell_type": "code",
      "execution_count": 79,
      "metadata": {
        "colab": {
          "base_uri": "https://localhost:8080/"
        },
        "id": "IFh3H-X0EfWW",
        "outputId": "21588e3f-b546-420e-c381-23a1f7f1e91d"
      },
      "outputs": [
        {
          "name": "stdout",
          "output_type": "stream",
          "text": [
            "Our model accuracy is: 69.9%\n"
          ]
        }
      ],
      "source": [
        "#let's see our model accuracy\n",
        "print(\"Our model accuracy is: {}%\".format(round(model.score(X_test,y_test)*100,2)))"
      ]
    },
    {
      "cell_type": "markdown",
      "metadata": {
        "id": "OwYKe7QQEfWW"
      },
      "source": [
        "# see that our model accuracy has decreased to 69.9 which is perfect! now we don't even have to use SMOTE(downsample or upsample our target classes) to balance the classes!"
      ]
    },
    {
      "cell_type": "code",
      "execution_count": 82,
      "metadata": {
        "colab": {
          "base_uri": "https://localhost:8080/"
        },
        "id": "nOnvggESEfWW",
        "outputId": "1445c42c-490f-42dd-e414-6d968eea28c0"
      },
      "outputs": [
        {
          "data": {
            "text/plain": [
              "4    622\n",
              "1    622\n",
              "3    622\n",
              "5    622\n",
              "2    622\n",
              "Name: MOS, dtype: int64"
            ]
          },
          "execution_count": 82,
          "metadata": {},
          "output_type": "execute_result"
        }
      ],
      "source": [
        "# if i have to apply smote , i will do it here\n",
        "\n",
        "#let's import SMOTE\n",
        "from imblearn.over_sampling import SMOTE\n",
        "\n",
        "#let's instantiate SMOTE\n",
        "smote = SMOTE(random_state=42)\n",
        "\n",
        "#let's fit smote on the train set\n",
        "oversample = SMOTE()\n",
        "X_train, y_train= oversample.fit_resample(X_train, y_train)\n",
        "\n",
        "#let's see the shape of the train set\n",
        "X_train.shape\n",
        "\n",
        "#let's see the distribution of the target variable\n",
        "pd.Series(y_train).value_counts()\n",
        "\n",
        "\n",
        "\n",
        "\n"
      ]
    },
    {
      "cell_type": "code",
      "execution_count": 85,
      "metadata": {
        "colab": {
          "base_uri": "https://localhost:8080/"
        },
        "id": "nzbyo7seEfWW",
        "outputId": "5a931f23-bb68-4198-de13-21fd829bfaa6"
      },
      "outputs": [
        {
          "data": {
            "text/plain": [
              "array([1.  , 3.95, 4.  , 4.  , 3.74])"
            ]
          },
          "execution_count": 85,
          "metadata": {},
          "output_type": "execute_result"
        }
      ],
      "source": [
        "#this has balanced the target variable\n",
        "# let's train a model on the train set and evaluate it on the test set\n",
        "\n",
        "#let's instantiate the model\n",
        "model = RandomForestRegressor(random_state=42)\n",
        "\n",
        "#let's fit the model on the train set\n",
        "model.fit(X_train,y_train)\n",
        "\n",
        "#let's predict on the test set\n",
        "y_pred = model.predict(X_test)\n",
        "\n",
        "#let's see the first 5 predictions\n",
        "y_pred[:5]\n",
        "\n",
        "\n"
      ]
    },
    {
      "cell_type": "code",
      "execution_count": 86,
      "metadata": {
        "colab": {
          "base_uri": "https://localhost:8080/"
        },
        "id": "KMvSrM09Fpe6",
        "outputId": "accd68af-ad5e-4c2b-9e3f-f7c983cb50f4"
      },
      "outputs": [
        {
          "data": {
            "text/plain": [
              "1493    1\n",
              "1156    4\n",
              "1253    4\n",
              "561     4\n",
              "1098    4\n",
              "Name: MOS, dtype: int64"
            ]
          },
          "execution_count": 86,
          "metadata": {},
          "output_type": "execute_result"
        }
      ],
      "source": [
        "#let's see the first 5 actual values\n",
        "y_test[:5]"
      ]
    },
    {
      "cell_type": "code",
      "execution_count": 87,
      "metadata": {
        "colab": {
          "base_uri": "https://localhost:8080/"
        },
        "id": "VwByk490Frf7",
        "outputId": "6f4108b5-72bf-4960-9ab3-4e796d7bd11c"
      },
      "outputs": [
        {
          "data": {
            "text/plain": [
              "(309,)"
            ]
          },
          "execution_count": 87,
          "metadata": {},
          "output_type": "execute_result"
        }
      ],
      "source": [
        "#let's see the shape of the predictions\n",
        "y_pred.shape"
      ]
    },
    {
      "cell_type": "code",
      "execution_count": 88,
      "metadata": {
        "colab": {
          "base_uri": "https://localhost:8080/"
        },
        "id": "L2m5p9KGFvMY",
        "outputId": "33c42d38-dad7-4103-e91a-33f49a1c838f"
      },
      "outputs": [
        {
          "data": {
            "text/plain": [
              "(309,)"
            ]
          },
          "execution_count": 88,
          "metadata": {},
          "output_type": "execute_result"
        }
      ],
      "source": [
        "#let's see the shape of the actual values\n",
        "y_test.shape"
      ]
    },
    {
      "cell_type": "code",
      "execution_count": 89,
      "metadata": {
        "colab": {
          "base_uri": "https://localhost:8080/"
        },
        "id": "J9DJ5c1_Fww0",
        "outputId": "3de4de7d-2bd8-46dc-d17d-5e8f250a6c22"
      },
      "outputs": [
        {
          "data": {
            "text/plain": [
              "4.000000    44\n",
              "5.000000    38\n",
              "1.000000     8\n",
              "4.030000     8\n",
              "4.060000     8\n",
              "            ..\n",
              "4.240000     1\n",
              "4.210000     1\n",
              "4.619667     1\n",
              "4.150000     1\n",
              "4.660000     1\n",
              "Length: 153, dtype: int64"
            ]
          },
          "execution_count": 89,
          "metadata": {},
          "output_type": "execute_result"
        }
      ],
      "source": [
        "#let's see the distribution of the predictions\n",
        "pd.Series(y_pred).value_counts()"
      ]
    },
    {
      "cell_type": "code",
      "execution_count": 90,
      "metadata": {
        "colab": {
          "base_uri": "https://localhost:8080/"
        },
        "id": "RixupUJGFyas",
        "outputId": "b572e1a8-e87f-47d7-fcc1-4dc9f727cb33"
      },
      "outputs": [
        {
          "data": {
            "text/plain": [
              "0.2926870817514021"
            ]
          },
          "execution_count": 90,
          "metadata": {},
          "output_type": "execute_result"
        }
      ],
      "source": [
        "#let's evaluate the model on the test set\n",
        "mean_absolute_error(y_test,y_pred)\n"
      ]
    },
    {
      "cell_type": "code",
      "execution_count": 91,
      "metadata": {
        "colab": {
          "base_uri": "https://localhost:8080/"
        },
        "id": "NoOkEGVuF0JZ",
        "outputId": "5f290b47-6575-4e30-f3c6-046f0537ae1b"
      },
      "outputs": [
        {
          "name": "stdout",
          "output_type": "stream",
          "text": [
            "Our model accuracy is: 78.46%\n"
          ]
        }
      ],
      "source": [
        "#let's see our model accuracy\n",
        "print(\"Our model accuracy is: {}%\".format(round(model.score(X_test,y_test)*100,2)))"
      ]
    },
    {
      "cell_type": "code",
      "execution_count": 92,
      "metadata": {
        "id": "1fAA57ZsF1kB"
      },
      "outputs": [],
      "source": [
        "# let's try logistic regression as well since we want the model to classify the predictions labels into 5 classes rather than giving us a continuous value\n",
        "\n",
        "#let's instantiate the model\n",
        "model = LogisticRegression(random_state=42)"
      ]
    },
    {
      "cell_type": "code",
      "execution_count": 93,
      "metadata": {
        "colab": {
          "base_uri": "https://localhost:8080/",
          "height": 74
        },
        "id": "Yl3Cnh3kF4oC",
        "outputId": "5b1d68c1-6cd2-4211-d8ae-3c73ee4e16bf"
      },
      "outputs": [
        {
          "data": {
            "text/html": [
              "<style>#sk-container-id-3 {color: black;background-color: white;}#sk-container-id-3 pre{padding: 0;}#sk-container-id-3 div.sk-toggleable {background-color: white;}#sk-container-id-3 label.sk-toggleable__label {cursor: pointer;display: block;width: 100%;margin-bottom: 0;padding: 0.3em;box-sizing: border-box;text-align: center;}#sk-container-id-3 label.sk-toggleable__label-arrow:before {content: \"▸\";float: left;margin-right: 0.25em;color: #696969;}#sk-container-id-3 label.sk-toggleable__label-arrow:hover:before {color: black;}#sk-container-id-3 div.sk-estimator:hover label.sk-toggleable__label-arrow:before {color: black;}#sk-container-id-3 div.sk-toggleable__content {max-height: 0;max-width: 0;overflow: hidden;text-align: left;background-color: #f0f8ff;}#sk-container-id-3 div.sk-toggleable__content pre {margin: 0.2em;color: black;border-radius: 0.25em;background-color: #f0f8ff;}#sk-container-id-3 input.sk-toggleable__control:checked~div.sk-toggleable__content {max-height: 200px;max-width: 100%;overflow: auto;}#sk-container-id-3 input.sk-toggleable__control:checked~label.sk-toggleable__label-arrow:before {content: \"▾\";}#sk-container-id-3 div.sk-estimator input.sk-toggleable__control:checked~label.sk-toggleable__label {background-color: #d4ebff;}#sk-container-id-3 div.sk-label input.sk-toggleable__control:checked~label.sk-toggleable__label {background-color: #d4ebff;}#sk-container-id-3 input.sk-hidden--visually {border: 0;clip: rect(1px 1px 1px 1px);clip: rect(1px, 1px, 1px, 1px);height: 1px;margin: -1px;overflow: hidden;padding: 0;position: absolute;width: 1px;}#sk-container-id-3 div.sk-estimator {font-family: monospace;background-color: #f0f8ff;border: 1px dotted black;border-radius: 0.25em;box-sizing: border-box;margin-bottom: 0.5em;}#sk-container-id-3 div.sk-estimator:hover {background-color: #d4ebff;}#sk-container-id-3 div.sk-parallel-item::after {content: \"\";width: 100%;border-bottom: 1px solid gray;flex-grow: 1;}#sk-container-id-3 div.sk-label:hover label.sk-toggleable__label {background-color: #d4ebff;}#sk-container-id-3 div.sk-serial::before {content: \"\";position: absolute;border-left: 1px solid gray;box-sizing: border-box;top: 0;bottom: 0;left: 50%;z-index: 0;}#sk-container-id-3 div.sk-serial {display: flex;flex-direction: column;align-items: center;background-color: white;padding-right: 0.2em;padding-left: 0.2em;position: relative;}#sk-container-id-3 div.sk-item {position: relative;z-index: 1;}#sk-container-id-3 div.sk-parallel {display: flex;align-items: stretch;justify-content: center;background-color: white;position: relative;}#sk-container-id-3 div.sk-item::before, #sk-container-id-3 div.sk-parallel-item::before {content: \"\";position: absolute;border-left: 1px solid gray;box-sizing: border-box;top: 0;bottom: 0;left: 50%;z-index: -1;}#sk-container-id-3 div.sk-parallel-item {display: flex;flex-direction: column;z-index: 1;position: relative;background-color: white;}#sk-container-id-3 div.sk-parallel-item:first-child::after {align-self: flex-end;width: 50%;}#sk-container-id-3 div.sk-parallel-item:last-child::after {align-self: flex-start;width: 50%;}#sk-container-id-3 div.sk-parallel-item:only-child::after {width: 0;}#sk-container-id-3 div.sk-dashed-wrapped {border: 1px dashed gray;margin: 0 0.4em 0.5em 0.4em;box-sizing: border-box;padding-bottom: 0.4em;background-color: white;}#sk-container-id-3 div.sk-label label {font-family: monospace;font-weight: bold;display: inline-block;line-height: 1.2em;}#sk-container-id-3 div.sk-label-container {text-align: center;}#sk-container-id-3 div.sk-container {/* jupyter's `normalize.less` sets `[hidden] { display: none; }` but bootstrap.min.css set `[hidden] { display: none !important; }` so we also need the `!important` here to be able to override the default hidden behavior on the sphinx rendered scikit-learn.org. See: https://github.com/scikit-learn/scikit-learn/issues/21755 */display: inline-block !important;position: relative;}#sk-container-id-3 div.sk-text-repr-fallback {display: none;}</style><div id=\"sk-container-id-3\" class=\"sk-top-container\"><div class=\"sk-text-repr-fallback\"><pre>LogisticRegression(random_state=42)</pre><b>In a Jupyter environment, please rerun this cell to show the HTML representation or trust the notebook. <br />On GitHub, the HTML representation is unable to render, please try loading this page with nbviewer.org.</b></div><div class=\"sk-container\" hidden><div class=\"sk-item\"><div class=\"sk-estimator sk-toggleable\"><input class=\"sk-toggleable__control sk-hidden--visually\" id=\"sk-estimator-id-3\" type=\"checkbox\" checked><label for=\"sk-estimator-id-3\" class=\"sk-toggleable__label sk-toggleable__label-arrow\">LogisticRegression</label><div class=\"sk-toggleable__content\"><pre>LogisticRegression(random_state=42)</pre></div></div></div></div></div>"
            ],
            "text/plain": [
              "LogisticRegression(random_state=42)"
            ]
          },
          "execution_count": 93,
          "metadata": {},
          "output_type": "execute_result"
        }
      ],
      "source": [
        "#let's fit the model on the train set\n",
        "model.fit(X_train,y_train)"
      ]
    },
    {
      "cell_type": "code",
      "execution_count": 94,
      "metadata": {
        "id": "7HZSlV-HF5ux"
      },
      "outputs": [],
      "source": [
        "#let's predict on the test set\n",
        "y_pred = model.predict(X_test)"
      ]
    },
    {
      "cell_type": "code",
      "execution_count": 95,
      "metadata": {
        "colab": {
          "base_uri": "https://localhost:8080/"
        },
        "id": "dNwxmEzkF7L8",
        "outputId": "b5dcea79-f0c3-4201-d97c-271051cd4824"
      },
      "outputs": [
        {
          "data": {
            "text/plain": [
              "array([1, 3, 4, 4, 4])"
            ]
          },
          "execution_count": 95,
          "metadata": {},
          "output_type": "execute_result"
        }
      ],
      "source": [
        "#let's see the first 5 predictions\n",
        "y_pred[:5]"
      ]
    },
    {
      "cell_type": "code",
      "execution_count": 96,
      "metadata": {
        "colab": {
          "base_uri": "https://localhost:8080/"
        },
        "id": "nVBNFJ5GF8Ol",
        "outputId": "512c3e61-2681-4e44-9bc9-e6f9d8256a98"
      },
      "outputs": [
        {
          "data": {
            "text/plain": [
              "1493    1\n",
              "1156    4\n",
              "1253    4\n",
              "561     4\n",
              "1098    4\n",
              "Name: MOS, dtype: int64"
            ]
          },
          "execution_count": 96,
          "metadata": {},
          "output_type": "execute_result"
        }
      ],
      "source": [
        "#let's see the first 5 actual values\n",
        "y_test[:5]"
      ]
    },
    {
      "cell_type": "code",
      "execution_count": 97,
      "metadata": {
        "colab": {
          "base_uri": "https://localhost:8080/"
        },
        "id": "GB8DmMjFF9Wu",
        "outputId": "50da7251-9d40-4c6d-9c87-69bed389fef1"
      },
      "outputs": [
        {
          "data": {
            "text/plain": [
              "(309,)"
            ]
          },
          "execution_count": 97,
          "metadata": {},
          "output_type": "execute_result"
        }
      ],
      "source": [
        "#let's see the shape of the predictions\n",
        "y_pred.shape"
      ]
    },
    {
      "cell_type": "code",
      "execution_count": 98,
      "metadata": {
        "colab": {
          "base_uri": "https://localhost:8080/"
        },
        "id": "_lusXpMLF-oi",
        "outputId": "8faedc2c-ba0a-422c-9f48-653ab01f6ece"
      },
      "outputs": [
        {
          "data": {
            "text/plain": [
              "(309,)"
            ]
          },
          "execution_count": 98,
          "metadata": {},
          "output_type": "execute_result"
        }
      ],
      "source": [
        "#let's see the shape of the actual values\n",
        "y_test.shape"
      ]
    },
    {
      "cell_type": "code",
      "execution_count": 99,
      "metadata": {
        "colab": {
          "base_uri": "https://localhost:8080/"
        },
        "id": "_EFQ72mrF_q6",
        "outputId": "198dbb77-f11b-4606-abb7-d5c7e68cd64f"
      },
      "outputs": [
        {
          "data": {
            "text/plain": [
              "4    129\n",
              "5     80\n",
              "3     49\n",
              "2     36\n",
              "1     15\n",
              "dtype: int64"
            ]
          },
          "execution_count": 99,
          "metadata": {},
          "output_type": "execute_result"
        }
      ],
      "source": [
        "#let's see the distribution of the predictions\n",
        "pd.Series(y_pred).value_counts()"
      ]
    },
    {
      "cell_type": "code",
      "execution_count": 100,
      "metadata": {
        "colab": {
          "base_uri": "https://localhost:8080/"
        },
        "id": "Yy8QZtC1GA0S",
        "outputId": "effcfdad-7314-4928-b40a-b9173341fec6"
      },
      "outputs": [
        {
          "data": {
            "text/plain": [
              "0.36245954692556637"
            ]
          },
          "execution_count": 100,
          "metadata": {},
          "output_type": "execute_result"
        }
      ],
      "source": [
        "#let's evaluate the model on the test set\n",
        "mean_absolute_error(y_test,y_pred)"
      ]
    },
    {
      "cell_type": "code",
      "execution_count": 102,
      "metadata": {
        "colab": {
          "base_uri": "https://localhost:8080/"
        },
        "id": "N_r8f-8OGB7B",
        "outputId": "602f0cee-d5c0-4670-fa71-c6e644f4b822"
      },
      "outputs": [
        {
          "name": "stdout",
          "output_type": "stream",
          "text": [
            "Our model accuracy is: 68.93%\n"
          ]
        }
      ],
      "source": [
        "# let's see our model accuracy\n",
        "print(\"Our model accuracy is: {}%\".format(round(model.score(X_test,y_test)*100,2)))"
      ]
    },
    {
      "cell_type": "markdown",
      "metadata": {},
      "source": [
        "## see , I told you from the Beginning ! since the class imbalance is not that big, even though we balanced the classes using SMOTE, the accuracy of the model has decreased which is good but, not that much in difference! But,it's good to learn the impact of class imbalance on the accuracy of the model and how to deal with it!"
      ]
    }
  ],
  "metadata": {
    "colab": {
      "provenance": []
    },
    "kernelspec": {
      "display_name": "Python 3",
      "language": "python",
      "name": "python3"
    },
    "language_info": {
      "codemirror_mode": {
        "name": "ipython",
        "version": 3
      },
      "file_extension": ".py",
      "mimetype": "text/x-python",
      "name": "python",
      "nbconvert_exporter": "python",
      "pygments_lexer": "ipython3",
      "version": "3.10.11"
    }
  },
  "nbformat": 4,
  "nbformat_minor": 0
}
